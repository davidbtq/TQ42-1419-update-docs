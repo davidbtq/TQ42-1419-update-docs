{
 "cells": [
  {
   "cell_type": "markdown",
   "id": "f61e17f3-7b1b-4898-b8d3-9e5a8e2320ec",
   "metadata": {},
   "source": [
    "# Welcome to TQ42\n",
    "\n",
    "## Example of training a generic time series Neural Network"
   ]
  },
  {
   "cell_type": "code",
   "execution_count": null,
   "id": "bf7c0de1-c5e4-46eb-a0d1-dbe6eb8585e0",
   "metadata": {},
   "outputs": [],
   "source": [
    "#Import Packages\n",
    "from tq42.client import TQ42Client\n",
    "from tq42.organization import list_all as list_all_organizations\n",
    "from tq42.project import list_all as list_all_projects\n",
    "from tq42.experiment import list_all as list_all_experiments\n",
    "from tq42.dataset import list_all as list_all_datasets\n",
    "from tq42.experiment_run import list_all as list_all_runs\n",
    "from tq42.experiment_run import ExperimentRun\n",
    "from tq42.compute import HardwareProto\n",
    "\n",
    "from tq42.algorithm import (\n",
    "    OptimProto, \n",
    "    LossFuncProto, \n",
    "    DatasetStorageInfoProto,\n",
    "    ModelStorageInfoProto,\n",
    "    ActFuncProto,\n",
    "    GenericMLTrainMetadataProto,\n",
    "    GenericMLTrainParametersProto,\n",
    "    GenericMLInferMetadataProto,\n",
    "    GenericMLInferParametersProto,\n",
    "    Layer,\n",
    "    PQNLayer,\n",
    "    ClassicalDenseLayer,\n",
    "    MLModelType,\n",
    "    ActivationFunctionLayer,\n",
    "    ActFuncProto,\n",
    "    DropoutLayer,\n",
    "    BatchNormalizationLayer,\n",
    "    TrainModelInfoProto,\n",
    "    MLTrainInputsProto,\n",
    "    TSEvalInputsProto,\n",
    "    AlgorithmProto,\n",
    "    MeasurementModeProto,\n",
    "    MeasureProto,\n",
    "    EntanglingProto,\n",
    "    DiffMethodProto,\n",
    "    QubitTypeProto,\n",
    "    ClassicalLSTMLayer,\n",
    "    QLSTMLayer,\n",
    ")\n",
    "\n",
    "from google.protobuf.json_format import MessageToDict"
   ]
  },
  {
   "cell_type": "markdown",
   "id": "16e97c79-fe6f-4638-8583-97dac10e2b23",
   "metadata": {},
   "source": [
    "# Create a client. Select an Organization, Project and Experiment"
   ]
  },
  {
   "cell_type": "code",
   "execution_count": null,
   "id": "1e2c2381-bed3-4e2b-9e00-48db34e49a95",
   "metadata": {},
   "outputs": [],
   "source": [
    "# Connect to the cloud service\n",
    "# https://terraquantum.io\n",
    "with TQ42Client() as client:\n",
    "    client.login()"
   ]
  },
  {
   "cell_type": "code",
   "execution_count": null,
   "id": "e45aef47-5bb6-4278-a2ed-ecad8fe39f79",
   "metadata": {},
   "outputs": [],
   "source": [
    "# list the organizations available to you \n",
    "for organization in list_all_organizations(client=client):\n",
    "    print (organization)"
   ]
  },
  {
   "cell_type": "code",
   "execution_count": null,
   "id": "25a4f40e-544a-42fd-b390-09f673c13a0f",
   "metadata": {},
   "outputs": [],
   "source": [
    "# Select an organization from the list\n",
    "org_selected = list_all_organizations(client=client)[0]\n",
    "print (org_selected)"
   ]
  },
  {
   "cell_type": "code",
   "execution_count": null,
   "id": "5467d616-d4bd-47db-b5eb-bef630666fe9",
   "metadata": {},
   "outputs": [],
   "source": [
    "# List the projects within that organization\n",
    "for project in list_all_projects(client=client, organization_id=org_selected.id):\n",
    "    print (project)"
   ]
  },
  {
   "cell_type": "code",
   "execution_count": null,
   "id": "c8f459c8-2560-4930-80f8-e655ccdd7da3",
   "metadata": {},
   "outputs": [],
   "source": [
    "# Select a project from the list\n",
    "proj_selected = list_all_projects(client=client, organization_id=org_selected.id)[0]\n",
    "print(proj_selected)"
   ]
  },
  {
   "cell_type": "code",
   "execution_count": null,
   "id": "8eefea79-eb74-4293-bd7d-f904578e2827",
   "metadata": {},
   "outputs": [],
   "source": [
    "# List the experiments within that project\n",
    "for experiment in list_all_experiments(client=client, project_id=proj_selected.id):\n",
    "    print (experiment)"
   ]
  },
  {
   "cell_type": "code",
   "execution_count": null,
   "id": "1994d6ba-d6f6-4698-b0be-e4df2df9da72",
   "metadata": {},
   "outputs": [],
   "source": [
    "# Select an experiment from the list\n",
    "exp_selected = list_all_experiments(client=client, project_id=proj_selected.id)[0]\n",
    "print(exp_selected)"
   ]
  },
  {
   "cell_type": "code",
   "execution_count": null,
   "id": "5d995b2e-3c55-425f-aa5e-e27efd795299",
   "metadata": {},
   "outputs": [],
   "source": [
    "# List the datasets within that project\n",
    "for dataset in list_all_datasets(client=client, project_id=proj_selected.id):\n",
    "    print (dataset)"
   ]
  },
  {
   "cell_type": "code",
   "execution_count": null,
   "id": "d5c30e9f-c81b-4eba-aa75-7d0c08695c41",
   "metadata": {},
   "outputs": [],
   "source": [
    "# Select a dataset from the list\n",
    "dataset_selected_train = list_all_datasets(client=client, project_id=proj_selected.id)[0]\n",
    "print(dataset_selected_train)"
   ]
  },
  {
   "cell_type": "markdown",
   "id": "1f82aeb9-e3af-4a62-bf86-964fe1fb1334",
   "metadata": {},
   "source": [
    "# Build and Train the Neural Network"
   ]
  },
  {
   "cell_type": "markdown",
   "id": "822efd51-fd75-48e4-a573-3cd3a75127fa",
   "metadata": {},
   "source": [
    "### Classical Example"
   ]
  },
  {
   "cell_type": "code",
   "execution_count": null,
   "id": "8c694b3d-e5b0-4389-93f8-55d6454ff8a0",
   "metadata": {},
   "outputs": [],
   "source": [
    "# Build the classical neural network\n",
    "\n",
    "classical_train_message=MessageToDict(GenericMLTrainMetadataProto(\n",
    "    parameters=GenericMLTrainParametersProto(\n",
    "        # Choose model type here\n",
    "        model_type=MLModelType.MLP,\n",
    "        # Add and customize and customize layers here\n",
    "        layers=[\n",
    "            Layer(classical_dense_layer=ClassicalDenseLayer(hidden_size=30, bias=True)),\n",
    "            Layer(classical_dense_layer=ClassicalDenseLayer(hidden_size=45, bias=True)),\n",
    "            Layer(classical_dense_layer=ClassicalDenseLayer(hidden_size=60, bias=True)),\n",
    "            Layer(\n",
    "                activation_function_layer=ActivationFunctionLayer(\n",
    "                    function=ActFuncProto.SIGMOID\n",
    "                )\n",
    "            ),\n",
    "            Layer(dropout_layer=DropoutLayer(value=0.5)),\n",
    "            Layer(batch_normalization_layer=BatchNormalizationLayer()),\n",
    "            Layer(\n",
    "                classical_dense_layer=ClassicalDenseLayer(hidden_size=1, bias=False)\n",
    "            ),  # Final layer, bias=False\n",
    "        ],\n",
    "        num_epochs=5,\n",
    "        batch_size=128,\n",
    "        learning_rate=0.05,\n",
    "        optim=OptimProto.ADAM,\n",
    "        loss_func=LossFuncProto.MSE,\n",
    "        k_fold=1,\n",
    "        train_model_info=TrainModelInfoProto(\n",
    "            # Provide a unique name to identify your trained model.\n",
    "            name=\"ENTER_CLASSICAL_MODEL_NAME_HERE\",\n",
    "            # Add a brief description to help users understand the purpose or functionality of this trained model.\n",
    "            description=\"ADD_DESCRIPTION_HERE\",\n",
    "        ),\n",
    "    ),\n",
    "    inputs=MLTrainInputsProto(\n",
    "        # Provide the specific dataset storage ID of the data you uploaded to TQ42.\n",
    "        data=DatasetStorageInfoProto(storage_id=dataset_selected_train.id)\n",
    "    ),\n",
    "),preserving_proto_field_name=True)"
   ]
  },
  {
   "cell_type": "code",
   "execution_count": null,
   "id": "ba06f56a-22f6-4729-a63a-c49452102b17",
   "metadata": {},
   "outputs": [],
   "source": [
    "# Train the classical neural network\n",
    "\n",
    "train_classical = ExperimentRun.create(\n",
    "    client=client,\n",
    "    algorithm=AlgorithmProto.GENERIC_ML_TRAIN, \n",
    "    experiment_id=exp_selected.id,\n",
    "    compute=HardwareProto.SMALL, \n",
    "    parameters=classical_train_message\n",
    ")\n",
    "\n",
    "print(train_classical.data)"
   ]
  },
  {
   "cell_type": "code",
   "execution_count": null,
   "id": "b00eaf0a-fe8a-41d7-9026-59c8499412ec",
   "metadata": {},
   "outputs": [],
   "source": [
    "# Check the run status\n",
    "print(train_classical.check())"
   ]
  },
  {
   "cell_type": "code",
   "execution_count": null,
   "id": "7bbdb386-4715-4d53-b8c2-61065bba5439",
   "metadata": {},
   "outputs": [],
   "source": [
    "# Save the trained model ID for later use in inference\n",
    "# trained_model_ID_classical = \"ADD_TRAINED_MODEL_ID_HERE\"\n",
    "trained_model_ID_classical = \"3a047329-ef52-4d73-b4f9-9747e1dac518\""
   ]
  },
  {
   "cell_type": "markdown",
   "id": "1aef86da-920c-4d40-a525-156768f99007",
   "metadata": {},
   "source": [
    "### Hybrid Quantum Example"
   ]
  },
  {
   "cell_type": "code",
   "execution_count": null,
   "id": "4332e1b1-e914-4afb-b470-ef851ca866d8",
   "metadata": {},
   "outputs": [],
   "source": [
    "# Build the hybrid quantum neural network\n",
    "# Note: these example hyperparameters are chosen for speed, not model accuracy\n",
    "\n",
    "hybrid_quantum_train_message=MessageToDict(GenericMLTrainMetadataProto(\n",
    "    parameters=GenericMLTrainParametersProto(\n",
    "        # Choose model type here\n",
    "        model_type=MLModelType.MLP,\n",
    "        # Add and customize and customize layers here\n",
    "        layers=[\n",
    "            Layer(classical_dense_layer=ClassicalDenseLayer(hidden_size=4, bias=True)),\n",
    "            Layer(\n",
    "                activation_function_layer=ActivationFunctionLayer(\n",
    "                    function=ActFuncProto.SIGMOID\n",
    "                )\n",
    "            ),\n",
    "            Layer(classical_dense_layer=ClassicalDenseLayer(hidden_size=4, bias=True)),\n",
    "            Layer(\n",
    "                activation_function_layer=ActivationFunctionLayer(\n",
    "                    function=ActFuncProto.SIGMOID\n",
    "                )\n",
    "            ),\n",
    "            Layer(\n",
    "                pqn_layer=PQNLayer(\n",
    "                    in_features=4,\n",
    "                    num_qubits=4,\n",
    "                    depth=1,\n",
    "                    measurement_mode=MeasurementModeProto.NONE,\n",
    "                    rotation=MeasureProto.X,\n",
    "                    entangling=EntanglingProto.BASIC,\n",
    "                    measure=MeasureProto.Z,\n",
    "                    diff_method=DiffMethodProto.ADJOINT,\n",
    "                    qubit_type=QubitTypeProto.LIGHTNING_QUBIT,\n",
    "                )\n",
    "            ),\n",
    "            Layer(\n",
    "                activation_function_layer=ActivationFunctionLayer(\n",
    "                    function=ActFuncProto.SIGMOID\n",
    "                )\n",
    "            ),\n",
    "            Layer(classical_dense_layer=ClassicalDenseLayer(hidden_size=1, bias=False)),\n",
    "        ],\n",
    "        num_epochs=2,\n",
    "        batch_size=512,\n",
    "        learning_rate=0.1,\n",
    "        optim=OptimProto.ADAM,\n",
    "        loss_func=LossFuncProto.MSE,\n",
    "        k_fold=1,\n",
    "        train_model_info=TrainModelInfoProto(\n",
    "            # Provide a unique name to identify your trained model.\n",
    "            name=\"ENTER_HYBRID_MODEL_NAME_HERE\",\n",
    "            # Add a brief description to help users understand the purpose or functionality of this trained model.\n",
    "            description=\"ADD_DESCRIPTION_HERE\",\n",
    "        ),\n",
    "    ),\n",
    "    inputs=MLTrainInputsProto(\n",
    "        # Provide the specific dataset storage ID of the data you uploaded to TQ42.\n",
    "        data=DatasetStorageInfoProto(storage_id=dataset_selected_train.id)\n",
    "    ),\n",
    "),preserving_proto_field_name=True)"
   ]
  },
  {
   "cell_type": "code",
   "execution_count": null,
   "id": "0a0e0fd1-712c-4445-81db-2adb7b2819b0",
   "metadata": {},
   "outputs": [],
   "source": [
    "# Train the hybrid quantum neural network\n",
    "\n",
    "train_hybrid = ExperimentRun.create(\n",
    "    client=client,\n",
    "    algorithm=AlgorithmProto.GENERIC_ML_TRAIN, \n",
    "    experiment_id=exp_selected.id,\n",
    "    compute=HardwareProto.SMALL, \n",
    "    parameters=hybrid_quantum_train_message\n",
    ")\n",
    "\n",
    "print(train_hybrid.data)"
   ]
  },
  {
   "cell_type": "code",
   "execution_count": null,
   "id": "233d1ad2-4b71-418c-a99d-9cf3a1793b6c",
   "metadata": {},
   "outputs": [],
   "source": [
    "# Check the run status\n",
    "print(train_hybrid.check())"
   ]
  },
  {
   "cell_type": "code",
   "execution_count": null,
   "id": "17ed21bb-eeeb-492f-a586-433bd1adfa58",
   "metadata": {},
   "outputs": [],
   "source": [
    "# Save the trained model ID for later use in inference\n",
    "# trained_model_ID_hybrid = \"ADD_TRAINED_MODEL_ID_HERE\"\n",
    "trained_model_ID_hybrid = \"095baa40-ce3a-48eb-a1d4-2426c154bc62\""
   ]
  },
  {
   "cell_type": "markdown",
   "id": "8d78ca48-5955-435b-a56d-23b86c59235d",
   "metadata": {},
   "source": [
    "# Use a trained model for Inference"
   ]
  },
  {
   "cell_type": "markdown",
   "id": "842d318e-3bb9-4048-a7a2-c25877ef6f03",
   "metadata": {},
   "source": [
    "#### Use the trained model IDs that were saved above for inference on a new dataset"
   ]
  },
  {
   "cell_type": "code",
   "execution_count": null,
   "id": "de15cdfd-6e3a-4d78-8c9f-299321b8a467",
   "metadata": {},
   "outputs": [],
   "source": [
    "# List the datasets within that project\n",
    "for dataset in list_all_datasets(client=client, project_id=proj_selected.id):\n",
    "    print (dataset)"
   ]
  },
  {
   "cell_type": "code",
   "execution_count": null,
   "id": "0b05c4f0-8a6a-49f1-b3e5-526a58bca669",
   "metadata": {},
   "outputs": [],
   "source": [
    "# Select a dataset from the list\n",
    "dataset_selected_infer = list_all_datasets(client=client, project_id=proj_selected.id)[1]\n",
    "print(dataset_selected_infer)"
   ]
  },
  {
   "cell_type": "markdown",
   "id": "1d65266c-8fd5-4144-94dd-50734d1e2972",
   "metadata": {},
   "source": [
    "### Classical Example"
   ]
  },
  {
   "cell_type": "code",
   "execution_count": null,
   "id": "fb539dd5-892b-45ae-aa86-d5ba53c42755",
   "metadata": {},
   "outputs": [],
   "source": [
    "classical_infer_message =  MessageToDict(GenericMLInferMetadataProto(\n",
    "    parameters=GenericMLInferParametersProto(),\n",
    "    inputs=TSEvalInputsProto(\n",
    "        # Provide the specific dataset storage ID of the data you uploaded to TQ42.\n",
    "        data=DatasetStorageInfoProto(storage_id=dataset_selected_infer.id),\n",
    "        # Provide the specific storage ID of the previously trained model.      \n",
    "        model=ModelStorageInfoProto(storage_id=trained_model_ID_classical),\n",
    "    )\n",
    "), preserving_proto_field_name=True)"
   ]
  },
  {
   "cell_type": "code",
   "execution_count": null,
   "id": "aec46d03-ec0f-4832-b7cf-70def69e9c23",
   "metadata": {},
   "outputs": [],
   "source": [
    "infer_classical = ExperimentRun.create(\n",
    "    client=client,\n",
    "    algorithm=AlgorithmProto.GENERIC_ML_INFER,\n",
    "    experiment_id=exp_selected.id,\n",
    "    compute=HardwareProto.SMALL,\n",
    "    parameters=classical_infer_message,\n",
    ")\n",
    "print(infer_classical.data)"
   ]
  },
  {
   "cell_type": "code",
   "execution_count": null,
   "id": "ba0d7999-788c-4669-b7a2-411f7fed7540",
   "metadata": {},
   "outputs": [],
   "source": [
    "# Check the run status\n",
    "print(infer_classical.check())"
   ]
  },
  {
   "cell_type": "markdown",
   "id": "324a3d27-40cf-41d7-b7dc-33154cabc2e9",
   "metadata": {},
   "source": [
    "### Hybrid Quantum Example"
   ]
  },
  {
   "cell_type": "code",
   "execution_count": null,
   "id": "f7bb2676-1d34-457e-9068-3c8f3130fe25",
   "metadata": {},
   "outputs": [],
   "source": [
    "hybrid_infer_message =  MessageToDict(GenericMLInferMetadataProto(\n",
    "    parameters=GenericMLInferParametersProto(),\n",
    "    inputs=TSEvalInputsProto(\n",
    "        # Provide the specific dataset storage ID of the data you uploaded to TQ42.\n",
    "        data=DatasetStorageInfoProto(storage_id=dataset_selected_infer.id),\n",
    "        # Provide the specific storage ID of the previously trained model.      \n",
    "        model=ModelStorageInfoProto(storage_id=trained_model_ID_classical),\n",
    "    )\n",
    "), preserving_proto_field_name=True)"
   ]
  },
  {
   "cell_type": "code",
   "execution_count": null,
   "id": "dce52fda-4bf6-442a-9eb3-63963f6014a4",
   "metadata": {},
   "outputs": [],
   "source": [
    "infer_hybrid = ExperimentRun.create(\n",
    "    client=client,\n",
    "    algorithm=AlgorithmProto.GENERIC_ML_INFER,\n",
    "    experiment_id=exp_selected.id,\n",
    "    compute=HardwareProto.SMALL,\n",
    "    parameters=hybrid_infer_message,\n",
    ")\n",
    "print(infer_hybrid.data)"
   ]
  },
  {
   "cell_type": "code",
   "execution_count": null,
   "id": "5ebb9bd7-ce57-4d28-ab52-044b4a0cdd0b",
   "metadata": {},
   "outputs": [],
   "source": [
    "# Check the run status\n",
    "print(infer_hybrid.check())"
   ]
  },
  {
   "cell_type": "code",
   "execution_count": null,
   "id": "7a4e1f62-a048-4efd-bb6e-4462b2fca625",
   "metadata": {},
   "outputs": [],
   "source": []
  }
 ],
 "metadata": {
  "kernelspec": {
   "display_name": "venvTQ42INT",
   "language": "python",
   "name": "venvtq42int"
  },
  "language_info": {
   "codemirror_mode": {
    "name": "ipython",
    "version": 3
   },
   "file_extension": ".py",
   "mimetype": "text/x-python",
   "name": "python",
   "nbconvert_exporter": "python",
   "pygments_lexer": "ipython3",
   "version": "3.12.1"
  },
  "vscode": {
   "interpreter": {
    "hash": "4c2ad97c998e2a01cc90ffc8f9f23ae19426f7e6b99947651fa609e98d400e38"
   }
  }
 },
 "nbformat": 4,
 "nbformat_minor": 5
}
