{
 "cells": [
  {
   "cell_type": "markdown",
   "id": "3d964459",
   "metadata": {},
   "source": [
    "![](../images/TQ42_Logo_Black_Teal.svg)\n",
    "\n",
    "\n",
    "# Welcome to TQ42!\n",
    "\n",
    "\n",
    "## Import tq42api"
   ]
  },
  {
   "cell_type": "code",
   "execution_count": null,
   "id": "b3f3436a",
   "metadata": {
    "ExecuteTime": {
     "end_time": "2023-12-22T15:23:28.581999Z",
     "start_time": "2023-12-22T15:23:28.563995Z"
    }
   },
   "outputs": [],
   "source": [
    "from tq42.client import TQ42Client\n",
    "from tq42.organization import list_all as list_all_organizations\n",
    "from tq42.project import list_all as list_all_projects\n",
    "from tq42.experiment import list_all as list_all_experiments\n",
    "from tq42.experiment_run import ExperimentRun\n",
    "from tq42.algorithm import AlgorithmProto\n",
    "from tq42.compute import HardwareProto"
   ]
  },
  {
   "cell_type": "code",
   "execution_count": null,
   "id": "34361b8b-c41d-455a-bd68-3ce415bccd2b",
   "metadata": {},
   "outputs": [],
   "source": [
    "# supporting function to print human readable info\n",
    "def print_info(x):\n",
    "    print(\"ID: \" + x.id, \"Name: \" + x.data.name, sep=\", \")"
   ]
  },
  {
   "cell_type": "code",
   "execution_count": null,
   "id": "4b1e2cf8-9377-45ed-b759-6f74dccc9f31",
   "metadata": {},
   "outputs": [],
   "source": [
    "# Connect to the cloud service\n",
    "with TQ42Client() as client:\n",
    "    client.login()"
   ]
  },
  {
   "cell_type": "markdown",
   "id": "e8db806c",
   "metadata": {},
   "source": [
    "## List the organizations available and select one"
   ]
  },
  {
   "cell_type": "code",
   "execution_count": null,
   "id": "49c7e183-e3cc-48ba-a935-1e277b96c6c0",
   "metadata": {},
   "outputs": [],
   "source": [
    "for organization in list_all_organizations(client=client):\n",
    "    print_info(organization)"
   ]
  },
  {
   "cell_type": "code",
   "execution_count": null,
   "id": "9a631edf-a423-4b0d-876b-ee6c1cf06d3e",
   "metadata": {},
   "outputs": [],
   "source": [
    "# Select the organization that you want, the first one in the list in this case\n",
    "org_selected = list_all_organizations(client=client)[0]\n",
    "print_info(org_selected)"
   ]
  },
  {
   "cell_type": "markdown",
   "id": "7b76f230",
   "metadata": {},
   "source": [
    "## List the projects available and select one"
   ]
  },
  {
   "cell_type": "code",
   "execution_count": null,
   "id": "ba5b63fa-488c-4865-a5a2-26ba3881c855",
   "metadata": {},
   "outputs": [],
   "source": [
    "for project in list_all_projects(client=client):\n",
    "    print_info(project)"
   ]
  },
  {
   "cell_type": "code",
   "execution_count": null,
   "id": "7ba4a4b3-3ecd-4c0d-b1c2-100c34a8939c",
   "metadata": {},
   "outputs": [],
   "source": [
    "# Select the project that you want, the first one in the list in this case\n",
    "proj_selected = list_all_projects(client=client, organization_id=org_selected.id)[0]\n",
    "print_info(proj_selected)"
   ]
  },
  {
   "cell_type": "markdown",
   "id": "dc1e3411",
   "metadata": {},
   "source": [
    "## List the experiements available and select one"
   ]
  },
  {
   "cell_type": "code",
   "execution_count": null,
   "id": "c0dea937",
   "metadata": {
    "ExecuteTime": {
     "end_time": "2023-12-22T15:23:29.211697Z",
     "start_time": "2023-12-22T15:23:28.753934Z"
    },
    "scrolled": true
   },
   "outputs": [],
   "source": [
    "#list all of the experiments\n",
    "for experiment in list_all_experiments(client=client, project_id=proj_selected.id):\n",
    "    print_info(experiment)"
   ]
  },
  {
   "cell_type": "code",
   "execution_count": null,
   "id": "32efe879-36bd-4f60-b15e-1a206dba7e7b",
   "metadata": {},
   "outputs": [],
   "source": [
    "# Select the experiment that you want, the first one in the list in this case\n",
    "exp_selected = list_all_experiments(client=client, project_id=proj_selected.id)[0]\n",
    "print_info(exp_selected)"
   ]
  },
  {
   "cell_type": "markdown",
   "id": "1f988e71",
   "metadata": {},
   "source": [
    "## Run an experiment\n",
    "\n",
    "This example uses the toy experiment type, which is for testing purposes."
   ]
  },
  {
   "cell_type": "code",
   "execution_count": null,
   "id": "af745a754790a3de",
   "metadata": {
    "collapsed": false,
    "jupyter": {
     "outputs_hidden": false
    }
   },
   "outputs": [],
   "source": [
    "print(f\"Running experiment within: Org {org_selected.id}, Proj {proj_selected.id} and Exp {exp_selected.id}`\")"
   ]
  },
  {
   "cell_type": "code",
   "execution_count": null,
   "id": "0611ddd6",
   "metadata": {
    "ExecuteTime": {
     "end_time": "2023-12-22T15:23:29.675241Z",
     "start_time": "2023-12-22T15:23:29.468233Z"
    },
    "scrolled": true
   },
   "outputs": [],
   "source": [
    "parameters = {\n",
    "    \"parameters\": {\n",
    "        'n': 3,\n",
    "        'r': 1.5, \n",
    "        'msg': \"hi!\", \n",
    "    },\n",
    "    \"inputs\": {}\n",
    "}\n",
    "run = ExperimentRun.create(\n",
    "    client=client,\n",
    "    algorithm=AlgorithmProto.TOY, \n",
    "    experiment_id=exp_selected.id,\n",
    "    compute=HardwareProto.SMALL, \n",
    "    parameters=parameters\n",
    ")\n",
    "\n",
    "print(run.data)"
   ]
  },
  {
   "cell_type": "markdown",
   "id": "fb94c4da",
   "metadata": {},
   "source": [
    "## Poll the experiment run, and return results when finished"
   ]
  },
  {
   "cell_type": "code",
   "execution_count": null,
   "id": "235e707b",
   "metadata": {
    "ExecuteTime": {
     "end_time": "2023-12-22T15:24:29.241912Z",
     "start_time": "2023-12-22T15:23:29.671856Z"
    },
    "scrolled": true
   },
   "outputs": [],
   "source": [
    "result = run.poll()\n",
    "print(result)"
   ]
  },
  {
   "cell_type": "code",
   "execution_count": null,
   "id": "6f183988-c5d9-4d7f-8ee4-300db7e93066",
   "metadata": {},
   "outputs": [],
   "source": []
  }
 ],
 "metadata": {
  "kernelspec": {
   "display_name": "tq42",
   "language": "python",
   "name": "tq42"
  },
  "language_info": {
   "codemirror_mode": {
    "name": "ipython",
    "version": 3
   },
   "file_extension": ".py",
   "mimetype": "text/x-python",
   "name": "python",
   "nbconvert_exporter": "python",
   "pygments_lexer": "ipython3",
   "version": "3.12.1"
  },
  "vscode": {
   "interpreter": {
    "hash": "2b948f73c602804da10ac5ef2ce43914090a4d8e5675991f378fa84d87ab2597"
   }
  }
 },
 "nbformat": 4,
 "nbformat_minor": 5
}
