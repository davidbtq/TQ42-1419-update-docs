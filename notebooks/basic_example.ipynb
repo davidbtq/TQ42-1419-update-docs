{
 "cells": [
  {
   "cell_type": "markdown",
   "id": "3d964459",
   "metadata": {},
   "source": [
    "![](../images/TQ42_Logo_Black_Teal.svg)\n",
    "\n",
    "\n",
    "# Welcome to TQ42!\n",
    "\n",
    "\n",
    "## Import tq42api"
   ]
  },
  {
   "cell_type": "code",
   "execution_count": null,
   "id": "b3f3436a",
   "metadata": {
    "ExecuteTime": {
     "end_time": "2023-12-22T15:23:28.581999Z",
     "start_time": "2023-12-22T15:23:28.563995Z"
    }
   },
   "outputs": [],
   "source": [
    "from tq42.client import TQ42Client\n",
    "from tq42.organization import list_all as list_all_organizations\n",
    "from tq42.project import list_all as list_all_projects\n",
    "from tq42.experiment import list_all as list_all_experiments\n",
    "from tq42.experiment_run import ExperimentRun\n",
    "from tq42.algorithm import AlgorithmProto\n",
    "from tq42.compute import HardwareProto\n",
    "from com.terraquantum.project.v1.project.list_projects_request_pb2 import (\n",
    "    ListProjectsRequest,\n",
    ")\n",
    "from com.terraquantum.project.v1.project.list_projects_response_pb2 import (\n",
    "    ListProjectsResponse,\n",
    ")"
   ]
  },
  {
   "cell_type": "code",
   "execution_count": null,
   "id": "4b1e2cf8-9377-45ed-b759-6f74dccc9f31",
   "metadata": {},
   "outputs": [],
   "source": [
    "# Connect to the cloud service\n",
    "with TQ42Client() as client:\n",
    "    client.login()"
   ]
  },
  {
   "cell_type": "markdown",
   "id": "e8db806c",
   "metadata": {},
   "source": [
    "## List the organizations available"
   ]
  },
  {
   "cell_type": "code",
   "execution_count": null,
   "id": "c87c20d3",
   "metadata": {
    "ExecuteTime": {
     "end_time": "2023-12-22T15:23:28.655272Z",
     "start_time": "2023-12-22T15:23:28.573754Z"
    }
   },
   "outputs": [],
   "source": [
    "for organization in list_all_organizations(client=client):\n",
    "    print (organization.id)"
   ]
  },
  {
   "cell_type": "code",
   "execution_count": null,
   "id": "9a631edf-a423-4b0d-876b-ee6c1cf06d3e",
   "metadata": {},
   "outputs": [],
   "source": [
    "# Select the organization that you want, the first one in the list in this case\n",
    "org_selected = list_all_organizations(client=client)[0]\n",
    "print (org_selected.id)"
   ]
  },
  {
   "cell_type": "markdown",
   "id": "7b76f230",
   "metadata": {},
   "source": [
    "## List and select project"
   ]
  },
  {
   "cell_type": "code",
   "execution_count": null,
   "id": "4cadaa5d-d193-4188-8aa3-62918965f162",
   "metadata": {},
   "outputs": [],
   "source": [
    "# List the projects in the selected organization\n",
    "create_list_proj_request = ListProjectsRequest(organization_id=org_selected.id)\n",
    "res: ListProjectsResponse = client.project_client.ListProjects(\n",
    "        request=create_list_proj_request, metadata=client.metadata\n",
    "    )\n",
    "for project in res.projects:\n",
    "    print(f\"ID: {project.id}, Name: {project.name}\")"
   ]
  },
  {
   "cell_type": "code",
   "execution_count": null,
   "id": "237d904e-0e89-49d4-9d1d-fe9489acee18",
   "metadata": {},
   "outputs": [],
   "source": [
    "# Select the project that you want, the first one in the list in this case\n",
    "proj_selected = list_all_projects(client=client, organization_id=org_selected.id)[0]\n",
    "print(proj_selected.id)"
   ]
  },
  {
   "cell_type": "markdown",
   "id": "dc1e3411",
   "metadata": {},
   "source": [
    "## List and select experiment"
   ]
  },
  {
   "cell_type": "code",
   "execution_count": null,
   "id": "c0dea937",
   "metadata": {
    "ExecuteTime": {
     "end_time": "2023-12-22T15:23:29.211697Z",
     "start_time": "2023-12-22T15:23:28.753934Z"
    },
    "scrolled": true
   },
   "outputs": [],
   "source": [
    "#list all of the experiments\n",
    "for experiment in list_all_experiments(client=client, project_id=proj_selected.id):\n",
    "    print (experiment.id)"
   ]
  },
  {
   "cell_type": "code",
   "execution_count": null,
   "id": "32efe879-36bd-4f60-b15e-1a206dba7e7b",
   "metadata": {},
   "outputs": [],
   "source": [
    "# Select the experiment that you want, the first one in the list in this case\n",
    "exp_selected = list_all_experiments(client=client, project_id=proj_selected.id)[0]\n",
    "print(exp_selected.id)"
   ]
  },
  {
   "cell_type": "markdown",
   "id": "1f988e71",
   "metadata": {},
   "source": [
    "## Run an experiment\n",
    "\n",
    "This example uses the toy experiment type, which is for testing purposes."
   ]
  },
  {
   "cell_type": "code",
   "execution_count": null,
   "id": "af745a754790a3de",
   "metadata": {
    "collapsed": false,
    "jupyter": {
     "outputs_hidden": false
    }
   },
   "outputs": [],
   "source": [
    "print(f\"Running experiment within: Org {org_selected.id}, Proj {proj_selected.id} and Exp {exp_selected.id}`\")"
   ]
  },
  {
   "cell_type": "code",
   "execution_count": null,
   "id": "0611ddd6",
   "metadata": {
    "ExecuteTime": {
     "end_time": "2023-12-22T15:23:29.675241Z",
     "start_time": "2023-12-22T15:23:29.468233Z"
    },
    "scrolled": true
   },
   "outputs": [],
   "source": [
    "parameters = {\n",
    "    \"parameters\": {\n",
    "        'n': 3,\n",
    "        'r': 1.5, \n",
    "        'msg': \"hi!\", \n",
    "    },\n",
    "    \"inputs\": {}\n",
    "}\n",
    "run = ExperimentRun.create(\n",
    "    client=client,\n",
    "    algorithm=AlgorithmProto.TOY, \n",
    "    experiment_id=exp_selected.id,\n",
    "    compute=HardwareProto.SMALL, \n",
    "    parameters=parameters\n",
    ")\n",
    "\n",
    "print(run.data)"
   ]
  },
  {
   "cell_type": "markdown",
   "id": "fb94c4da",
   "metadata": {},
   "source": [
    "## Poll the experiment run, and return results when finished"
   ]
  },
  {
   "cell_type": "code",
   "execution_count": null,
   "id": "235e707b",
   "metadata": {
    "ExecuteTime": {
     "end_time": "2023-12-22T15:24:29.241912Z",
     "start_time": "2023-12-22T15:23:29.671856Z"
    },
    "scrolled": true
   },
   "outputs": [],
   "source": [
    "result = run.poll()\n",
    "print(result)"
   ]
  },
  {
   "cell_type": "code",
   "execution_count": null,
   "id": "6f183988-c5d9-4d7f-8ee4-300db7e93066",
   "metadata": {},
   "outputs": [],
   "source": []
  }
 ],
 "metadata": {
  "kernelspec": {
   "display_name": "tq42",
   "language": "python",
   "name": "tq42"
  },
  "language_info": {
   "codemirror_mode": {
    "name": "ipython",
    "version": 3
   },
   "file_extension": ".py",
   "mimetype": "text/x-python",
   "name": "python",
   "nbconvert_exporter": "python",
   "pygments_lexer": "ipython3",
   "version": "3.12.1"
  },
  "vscode": {
   "interpreter": {
    "hash": "2b948f73c602804da10ac5ef2ce43914090a4d8e5675991f378fa84d87ab2597"
   }
  }
 },
 "nbformat": 4,
 "nbformat_minor": 5
}
